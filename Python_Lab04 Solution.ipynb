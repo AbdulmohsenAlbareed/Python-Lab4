{
 "cells": [
  {
   "cell_type": "markdown",
   "id": "906914a2",
   "metadata": {},
   "source": [
    "### Create a function that takes one parameter of type int, then it prints out the result formatted like the following pattern (if we give it 5 for example):"
   ]
  },
  {
   "cell_type": "code",
   "execution_count": 3,
   "id": "2b28cccf",
   "metadata": {},
   "outputs": [],
   "source": [
    "def pattern(x):\n",
    "    var =[]\n",
    "    #fill the var list with values from 1 to x\n",
    "    for z in range(1,x+1):\n",
    "        var.append(z)\n",
    "        #Make it in reverse order.\n",
    "    var=var[::-1]\n",
    "    #every iteration increase the start slicing\n",
    "    for i in range(len(var)):\n",
    "        print(var[i:])"
   ]
  },
  {
   "cell_type": "code",
   "execution_count": 4,
   "id": "8d340058",
   "metadata": {},
   "outputs": [
    {
     "name": "stdout",
     "output_type": "stream",
     "text": [
      "Enter a number:5\n",
      "[5, 4, 3, 2, 1]\n",
      "[4, 3, 2, 1]\n",
      "[3, 2, 1]\n",
      "[2, 1]\n",
      "[1]\n"
     ]
    }
   ],
   "source": [
    "parrent(int(input('Enter a number:')))"
   ]
  },
  {
   "cell_type": "code",
   "execution_count": null,
   "id": "8295299a",
   "metadata": {},
   "outputs": [],
   "source": []
  }
 ],
 "metadata": {
  "kernelspec": {
   "display_name": "Python 3 (ipykernel)",
   "language": "python",
   "name": "python3"
  },
  "language_info": {
   "codemirror_mode": {
    "name": "ipython",
    "version": 3
   },
   "file_extension": ".py",
   "mimetype": "text/x-python",
   "name": "python",
   "nbconvert_exporter": "python",
   "pygments_lexer": "ipython3",
   "version": "3.10.9"
  }
 },
 "nbformat": 4,
 "nbformat_minor": 5
}
